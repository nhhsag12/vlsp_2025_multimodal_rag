{
 "cells": [
  {
   "cell_type": "markdown",
   "id": "de911208",
   "metadata": {},
   "source": [
    "# Process the dataset"
   ]
  },
  {
   "cell_type": "markdown",
   "id": "eee6fb78",
   "metadata": {},
   "source": [
    "## Open the dataset"
   ]
  },
  {
   "cell_type": "code",
   "id": "initial_id",
   "metadata": {
    "collapsed": true,
    "ExecuteTime": {
     "end_time": "2025-08-07T17:14:44.658357Z",
     "start_time": "2025-08-07T17:14:44.655429Z"
    }
   },
   "source": "import json\n",
   "outputs": [],
   "execution_count": 1
  },
  {
   "cell_type": "code",
   "id": "db0a923cce3c4ece",
   "metadata": {
    "ExecuteTime": {
     "end_time": "2025-08-07T17:14:44.735500Z",
     "start_time": "2025-08-07T17:14:44.701799Z"
    }
   },
   "source": [
    "database_path = '../data/cleaned_vlsp2025_law_db.json'\n",
    "dataset_path = \"../data/VLSP 2025 - MLQA-TSR Data Release/train_data/vlsp_2025_train.json\"\n",
    "\n",
    "with open(database_path, \"r\") as f:\n",
    "    database = json.load(f)\n",
    "\n",
    "with open(dataset_path, \"r\") as f:\n",
    "    dataset = json.load(f)"
   ],
   "outputs": [],
   "execution_count": 2
  },
  {
   "cell_type": "markdown",
   "id": "c1b3f6f0",
   "metadata": {},
   "source": [
    "## Add the title to the text of the article"
   ]
  },
  {
   "cell_type": "code",
   "id": "143547b8",
   "metadata": {
    "ExecuteTime": {
     "end_time": "2025-08-07T17:14:44.770941Z",
     "start_time": "2025-08-07T17:14:44.765326Z"
    }
   },
   "source": [
    "for record in database:\n",
    "    record[\"text\"] = record[\"article_title\"].strip() + \"\\n\" + record[\"text\"].strip()"
   ],
   "outputs": [],
   "execution_count": 3
  },
  {
   "cell_type": "code",
   "id": "1b4f031a",
   "metadata": {
    "ExecuteTime": {
     "end_time": "2025-08-07T17:14:45.147652Z",
     "start_time": "2025-08-07T17:14:45.136286Z"
    }
   },
   "source": [
    "database[1][\"text\"]"
   ],
   "outputs": [
    {
     "data": {
      "text/plain": [
       "'Đối tượng áp dụng\\nQuy chuẩn này áp dụng đối với người tham gia giao thông trên mạng lưới đường bộ của Việt Nam và các tổ chức, cá nhân liên quan đến quản lý, đầu tư xây dựng, bảo vệ, bảo trì, khai thác, sử dụng kết cấu hạ tầng giao thông đường bộ.'"
      ]
     },
     "execution_count": 4,
     "metadata": {},
     "output_type": "execute_result"
    }
   ],
   "execution_count": 4
  },
  {
   "cell_type": "code",
   "id": "53d3f0d486c171cf",
   "metadata": {
    "ExecuteTime": {
     "end_time": "2025-08-07T17:14:45.339865Z",
     "start_time": "2025-08-07T17:14:45.334125Z"
    }
   },
   "source": [
    "for data in dataset:\n",
    "    if data[\"question_type\"] != \"Yes/No\":\n",
    "        print(data)\n",
    "        break"
   ],
   "outputs": [
    {
     "name": "stdout",
     "output_type": "stream",
     "text": [
      "{'id': 'train_1', 'image_id': 'train_1_3', 'question': 'Biển báo cấm xe khách trên 29 chỗ được áp dụng trong các khoảng thời gian nào? ', 'relevant_articles': [{'law_id': 'QCVN 41:2024/BGTVT', 'article_id': '22'}], 'question_type': 'Multiple choice', 'choices': {'A': 'Từ 6:30 đến 8:00 và từ 16:30 đến 18:30; ngoài các khoảng thời gian này không được phép lưu thông.', 'B': 'Từ 6:30 đến 8:00 và từ 16:30 đến 18:30; ngoài các khoảng thời gian này được phép lưu thông.', 'C': 'Cấm lưu thông cả ngày.', 'D': 'D. Không cấm xe khách trên 29 chỗ lưu thông.'}, 'answer': 'B'}\n"
     ]
    }
   ],
   "execution_count": 5
  },
  {
   "cell_type": "markdown",
   "id": "e3270484e8bb8d4c",
   "metadata": {},
   "source": [
    "# Dataset Preparation"
   ]
  },
  {
   "cell_type": "markdown",
   "id": "d12e75d9",
   "metadata": {},
   "source": [
    "Create a dataset that can produce these `(Anchor, Positive, Negative)` triplets. Each item in dataset consist of\n",
    "1. An **image**\n",
    "2. A corresponding **text query**\n",
    "3. A **positive document** (the correct answer/context for the image and query)\n",
    "4. A **negative document** (a random, incorrect document from the database)"
   ]
  },
  {
   "cell_type": "markdown",
   "id": "f0892841fa5bc47b",
   "metadata": {},
   "source": [
    "## Initialize the text embedding model"
   ]
  },
  {
   "cell_type": "code",
   "id": "42f7dbda3b42da9b",
   "metadata": {
    "ExecuteTime": {
     "end_time": "2025-08-07T17:15:09.026732Z",
     "start_time": "2025-08-07T17:14:46.666939Z"
    }
   },
   "source": [
    "from src.multimodal_retriever.retriever_v2 import RetrieverV2\n",
    "import torch\n",
    "from sentence_transformers import SentenceTransformer\n",
    "\n",
    "TEXT_MODEL_NAME = \"BAAI/bge-m3\"\n",
    "DEVICE = \"cuda:1\" if torch.cuda.is_available() else \"cpu\"\n",
    "# model = SentenceTransformer(TEXT_MODEL_NAME, device=DEVICE)\n",
    "model = RetrieverV2(pretrained_model_path=\"../src/multimodal_retriever/pretrained_model/Visualized_m3.pth\").to(\"cpu\")"
   ],
   "outputs": [
    {
     "name": "stderr",
     "output_type": "stream",
     "text": [
      "/home/spacetop/Hoang/vlsp_2025_multimodal_rag/.venv/lib/python3.12/site-packages/tqdm/auto.py:21: TqdmWarning: IProgress not found. Please update jupyter and ipywidgets. See https://ipywidgets.readthedocs.io/en/stable/user_install.html\n",
      "  from .autonotebook import tqdm as notebook_tqdm\n",
      "/home/spacetop/Hoang/vlsp_2025_multimodal_rag/.venv/lib/python3.12/site-packages/timm/models/layers/__init__.py:48: FutureWarning: Importing from timm.models.layers is deprecated, please import via timm.layers\n",
      "  warnings.warn(f\"Importing from {__name__} is deprecated, please import via timm.layers\", FutureWarning)\n"
     ]
    }
   ],
   "execution_count": 6
  },
  {
   "cell_type": "code",
   "id": "4b7bf5cb33626ff9",
   "metadata": {
    "jupyter": {
     "is_executing": true
    },
    "ExecuteTime": {
     "start_time": "2025-08-07T17:15:09.032195Z"
    }
   },
   "source": [
    "from tqdm import tqdm\n",
    "\n",
    "for record in tqdm(database, desc=\"Generating embeddings for the database\"):\n",
    "    # pt_embedding = model.encode_document(record[\"text\"], convert_to_tensor=True, device=DEVICE)\n",
    "    pt_embedding = model.encode_text(record[\"text\"]).squeeze(0)\n",
    "    np_embedding = pt_embedding.detach().cpu().numpy()\n",
    "    list_embedding = np_embedding.tolist()\n",
    "    record[\"embedding\"] = list_embedding\n"
   ],
   "outputs": [
    {
     "name": "stderr",
     "output_type": "stream",
     "text": [
      "Generating embeddings for the database:   3%|▎         | 11/399 [00:27<10:12,  1.58s/it]"
     ]
    }
   ],
   "execution_count": null
  },
  {
   "cell_type": "code",
   "id": "1e1212ff3bb9d338",
   "metadata": {
    "ExecuteTime": {
     "end_time": "2025-08-07T16:19:32.615898981Z",
     "start_time": "2025-08-07T15:52:45.579346Z"
    }
   },
   "source": [
    "import random\n",
    "dataset_image_base_path = \"../data/VLSP 2025 - MLQA-TSR Data Release/train_data/images/\"\n",
    "\n",
    "new_dataset = []\n",
    "max_pairs = 100\n",
    "for data in dataset:\n",
    "    image_file = data[\"image_id\"] + \".jpg\"\n",
    "    query_text = \"\"\n",
    "    if data[\"question_type\"] == \"Multiple choice\":\n",
    "        query_text = data[\"question\"]+ \"\\n\"\n",
    "        for key, value in data[\"choices\"].items():\n",
    "            query_text += f\"{key}: {value}\\n\"\n",
    "    elif data[\"question_type\"] == \"Yes/No\":\n",
    "        query_text = data[\"question\"] + \"\\n\"\n",
    "    relevant_articles = data[\"relevant_articles\"]\n",
    "    for article in relevant_articles:\n",
    "        positive_article_id = article\n",
    "        \n",
    "        # Get the embedding for the positive article\n",
    "        positive_embedding = []\n",
    "        positive_article = \"\"\n",
    "        positive_record_id = \"\"\n",
    "        for record in database:\n",
    "            if record[\"law_id\"] == positive_article_id[\"law_id\"] and record[\"article_id\"] == positive_article_id[\"article_id\"]:\n",
    "                positive_embedding = record[\"embedding\"]\n",
    "                positive_article = record[\"text\"]\n",
    "                positive_record_id = record[\"record_id\"]\n",
    "                break\n",
    "        if positive_record_id == \"\":\n",
    "            print(article)\n",
    "            continue\n",
    "        \n",
    "        # Get random negative articles\n",
    "        negative_articles = []\n",
    "        for record in database:\n",
    "            if record[\"law_id\"] != positive_article_id[\"law_id\"] or record[\"article_id\"] != positive_article_id[\"article_id\"]:\n",
    "                negative_articles.append(record)\n",
    "        negative_articles = random.sample(negative_articles, max_pairs)\n",
    "        # negative_embeddings = [record[\"embedding\"] for record in negative_articles]\n",
    "        # negative_texts = [record[\"text\"] for record in negative_articles]\n",
    "        for negative_article in negative_articles:\n",
    "            negative_text = negative_article[\"text\"]\n",
    "            negative_embedding = negative_article[\"embedding\"]\n",
    "            negative_record_id = negative_article[\"record_id\"]\n",
    "            new_dataset.append({\n",
    "                \"image_file\": image_file,\n",
    "                \"query_text\": query_text,\n",
    "                \"positive_record_id\": positive_record_id,\n",
    "                \"negative_record_id\": negative_record_id,\n",
    "            })\n",
    "        # negative_article = {\n",
    "        #     \"text\": negative_texts,\n",
    "        #     \"embedding\": negative_embeddings\n",
    "        # }\n",
    "        # new_dataset.append({\n",
    "        #     \"image_file\": image_file,\n",
    "        #     \"query_text\": query_text,\n",
    "        #     \"positive_article\": {\n",
    "        #         \"text\": positive_article,\n",
    "        #         \"embedding\": positive_embedding\n",
    "        #     },\n",
    "        #     \"negative_articles\": negative_article\n",
    "        # })\n",
    "\n",
    "\n"
   ],
   "outputs": [
    {
     "name": "stdout",
     "output_type": "stream",
     "text": [
      "{'law_id': 'QCVN 41:2024/BGTVT', 'article_id': 'B.3'}\n",
      "{'law_id': 'QCVN 41:2024/BGTVT', 'article_id': '47.15'}\n",
      "{'law_id': '36/2024/QH15', 'article_id': '26.0'}\n",
      "{'law_id': 'QCVN 41:2024/BGTVT', 'article_id': 'G1.2'}\n",
      "{'law_id': 'QCVN 41:2024/BGTVT', 'article_id': 'G1.1'}\n",
      "{'law_id': '36/2024/QH15', 'article_id': '16.0'}\n",
      "{'law_id': 'QCVN 41:2024/BGTVT', 'article_id': 'B.3; 41'}\n",
      "{'law_id': 'QCVN 41:2024/BGTVT', 'article_id': 'D.11'}\n",
      "{'law_id': 'QCVN 41:2024/BGTVT', 'article_id': '47.7'}\n",
      "{'law_id': 'QCVN 41:2024/BGTVT', 'article_id': '47.22'}\n",
      "{'law_id': 'QCVN 41:2024/BGTVT', 'article_id': 'D.11'}\n",
      "{'law_id': 'QCVN 41:2024/BGTVT', 'article_id': 'D.11'}\n",
      "{'law_id': 'QCVN 41:2024/BGTVT', 'article_id': 'F.10; 22'}\n",
      "{'law_id': 'QCVN 41:2024/BGTVT', 'article_id': 'B.3; 41'}\n",
      "{'law_id': 'QCVN 41:2024/BGTVT', 'article_id': 'B.3'}\n",
      "{'law_id': 'QCVN 41:2024/BGTVT', 'article_id': 'B.3; 41'}\n",
      "{'law_id': 'QCVN 41:2024/BGTVT', 'article_id': 'B.3'}\n",
      "{'law_id': 'QCVN 41:2024/BGTVT', 'article_id': 'B.3'}\n",
      "{'law_id': '36/2024/QH15', 'article_id': '11.0'}\n",
      "{'law_id': 'QCVN 41:2024/BGTVT', 'article_id': 'B.3'}\n",
      "{'law_id': '36/2024/QH15', 'article_id': '11.0'}\n",
      "{'law_id': '36/2024/QH15', 'article_id': '9.0'}\n",
      "{'law_id': 'QCVN 41:2024/BGTVT', 'article_id': 'B.3'}\n",
      "{'law_id': '36/2024/QH15', 'article_id': '4.0'}\n",
      "{'law_id': 'QCVN 41:2024/BGTVT', 'article_id': '22 B.15'}\n",
      "{'law_id': 'QCVN 41:2024/BGTVT', 'article_id': '22 B.15'}\n",
      "{'law_id': 'QCVN 41:2024/BGTVT', 'article_id': 'B.4_x0000_'}\n",
      "{'law_id': '36/2024/QH15', 'article_id': '18.0'}\n",
      "{'law_id': 'QCVN 41:2024/BGTVT', 'article_id': 'B'}\n",
      "{'law_id': 'QCVN 41:2024/BGTVT', 'article_id': 'B3'}\n",
      "{'law_id': '36/2024/QH15', 'article_id': '22.0'}\n",
      "{'law_id': 'QCVN 41:2024/BGTVT', 'article_id': 'B.3'}\n",
      "{'law_id': 'QCVN 41:2024/BGTVT', 'article_id': 'B.3'}\n",
      "{'law_id': 'QCVN 41:2024/BGTVT', 'article_id': 'B.3; 41'}\n",
      "{'law_id': 'QCVN 41:2024/BGTVT', 'article_id': 'B.3'}\n",
      "{'law_id': 'QCVN 41:2024/BGTVT', 'article_id': 'B6'}\n",
      "{'law_id': 'QCVN 41:2024/BGTVT', 'article_id': 'D.1777'}\n",
      "{'law_id': 'QCVN 41:2024/BGTVT', 'article_id': 'I.414'}\n",
      "{'law_id': 'QCVN 41:2024/BGTVT', 'article_id': 'B.3'}\n",
      "{'law_id': '36/2024/QH15', 'article_id': '26.0'}\n"
     ]
    }
   ],
   "execution_count": 8
  },
  {
   "cell_type": "code",
   "id": "4e27ba3d",
   "metadata": {
    "jupyter": {
     "is_executing": true
    }
   },
   "source": [
    "print(new_dataset[200])"
   ],
   "outputs": [],
   "execution_count": null
  },
  {
   "cell_type": "code",
   "id": "8e3a1bc4",
   "metadata": {
    "ExecuteTime": {
     "end_time": "2025-08-07T16:49:14.303077596Z",
     "start_time": "2025-08-07T15:52:47.192429Z"
    }
   },
   "source": [
    "print(f\"New dataset size: {len(new_dataset)}\")"
   ],
   "outputs": [
    {
     "name": "stdout",
     "output_type": "stream",
     "text": [
      "New dataset size: 118300\n"
     ]
    }
   ],
   "execution_count": 10
  },
  {
   "cell_type": "code",
   "id": "1073ad2e",
   "metadata": {
    "ExecuteTime": {
     "end_time": "2025-08-07T16:49:14.312312490Z",
     "start_time": "2025-08-07T15:52:47.680486Z"
    }
   },
   "source": [
    "print(f\"Dataset size: {len(dataset)}\")"
   ],
   "outputs": [
    {
     "name": "stdout",
     "output_type": "stream",
     "text": [
      "Dataset size: 530\n"
     ]
    }
   ],
   "execution_count": 11
  },
  {
   "metadata": {
    "ExecuteTime": {
     "end_time": "2025-08-07T16:49:14.313069843Z",
     "start_time": "2025-08-07T15:52:48.184600Z"
    }
   },
   "cell_type": "code",
   "source": [
    "cnt = 0\n",
    "processed_new_dataset = []\n",
    "for record in new_dataset:\n",
    "    if record[\"positive_record_id\"] != \"\" and record[\"negative_record_id\"] != \"\":\n",
    "        processed_new_dataset.append(record)\n",
    "\n",
    "new_dataset = processed_new_dataset"
   ],
   "id": "c609919ba3820105",
   "outputs": [],
   "execution_count": 12
  },
  {
   "cell_type": "code",
   "id": "5bbcf4ef",
   "metadata": {
    "ExecuteTime": {
     "end_time": "2025-08-05T17:39:52.058018Z",
     "start_time": "2025-08-05T17:39:51.322928Z"
    }
   },
   "source": [
    "# new_dataset_path = \"../data/processed_vlsp_2025_multimodal_rag_dataset.json\"\n",
    "new_dataset_path = \"../data/processed_vlsp_2025_multimodal_rag_dataset_120000.json\"\n",
    "with open(new_dataset_path, \"w\") as f:\n",
    "    json.dump(new_dataset, f, indent=4, ensure_ascii=False)\n",
    "print(f\"New dataset saved to {new_dataset_path}\")\n",
    "print(\"Dataset preparation completed.\")"
   ],
   "outputs": [
    {
     "name": "stdout",
     "output_type": "stream",
     "text": [
      "New dataset saved to ../data/processed_vlsp_2025_multimodal_rag_dataset_only_title.json\n",
      "Dataset preparation completed.\n"
     ]
    }
   ],
   "execution_count": 27
  },
  {
   "cell_type": "code",
   "id": "60459aae",
   "metadata": {
    "ExecuteTime": {
     "end_time": "2025-08-07T16:49:14.313665537Z",
     "start_time": "2025-08-07T15:55:08.529518Z"
    }
   },
   "source": [
    "# record_id_to_embedding = {}\n",
    "record_id_to_document_embedding = {}\n",
    "for record in database:\n",
    "    record_id_to_document_embedding[record[\"record_id\"]] = {\n",
    "        \"text\": record[\"text\"],\n",
    "        \"embedding\": record[\"embedding\"]\n",
    "    }\n"
   ],
   "outputs": [],
   "execution_count": 13
  },
  {
   "metadata": {
    "ExecuteTime": {
     "end_time": "2025-08-07T16:49:14.318177140Z",
     "start_time": "2025-08-07T15:55:12.670274Z"
    }
   },
   "cell_type": "code",
   "source": [
    "text_embedding_path = \"../data/record_id_to_document_embedding_v2.json\"\n",
    "with open(text_embedding_path, \"w\") as f:\n",
    "    json.dump(record_id_to_document_embedding, f, indent=4, ensure_ascii=False)\n",
    "print(f\"Text embeddings and text saved to {text_embedding_path}\")"
   ],
   "id": "81cdbbbf16902455",
   "outputs": [
    {
     "name": "stdout",
     "output_type": "stream",
     "text": [
      "Text embeddings and text saved to ../data/record_id_to_document_embedding.json\n"
     ]
    }
   ],
   "execution_count": 14
  },
  {
   "metadata": {},
   "cell_type": "markdown",
   "source": "# Create record id to document text dictionary",
   "id": "f28dee0a12ca424e"
  },
  {
   "metadata": {
    "ExecuteTime": {
     "end_time": "2025-08-04T16:13:00.840692Z",
     "start_time": "2025-08-04T16:13:00.696848Z"
    }
   },
   "cell_type": "code",
   "source": [
    "import json\n",
    "record_id_to_embedding_path = \"../data/record_id_to_document_embedding.json\"\n",
    "with open(record_id_to_embedding_path, \"r\") as f:\n",
    "    record_id_to_embedding = json.load(f)"
   ],
   "id": "b15d79a1b2cd3083",
   "outputs": [],
   "execution_count": 2
  },
  {
   "metadata": {
    "ExecuteTime": {
     "end_time": "2025-08-04T16:16:42.109320Z",
     "start_time": "2025-08-04T16:16:42.105617Z"
    }
   },
   "cell_type": "code",
   "source": "document_text_to_embedding = {value[\"text\"]: value[\"embedding\"] for key, value in record_id_to_embedding.items()}",
   "id": "4a436cb30369efae",
   "outputs": [],
   "execution_count": 6
  },
  {
   "metadata": {
    "ExecuteTime": {
     "end_time": "2025-08-04T16:20:24.736566Z",
     "start_time": "2025-08-04T16:20:24.348128Z"
    }
   },
   "cell_type": "code",
   "source": [
    "document_text_to_embedding_path = \"../data/document_text_to_embedding.json\"\n",
    "with open(document_text_to_embedding_path, \"w\") as f:\n",
    "    json.dump(document_text_to_embedding, f, indent=4)"
   ],
   "id": "c0649ce878742720",
   "execution_count": 10,
   "outputs": []
  },
  {
   "metadata": {},
   "cell_type": "code",
   "outputs": [],
   "execution_count": null,
   "source": "",
   "id": "165146ac1b5a22ca"
  }
 ],
 "metadata": {
  "kernelspec": {
   "display_name": ".venv",
   "language": "python",
   "name": "python3"
  },
  "language_info": {
   "codemirror_mode": {
    "name": "ipython",
    "version": 3
   },
   "file_extension": ".py",
   "mimetype": "text/x-python",
   "name": "python",
   "nbconvert_exporter": "python",
   "pygments_lexer": "ipython3",
   "version": "3.12.3"
  }
 },
 "nbformat": 4,
 "nbformat_minor": 5
}
