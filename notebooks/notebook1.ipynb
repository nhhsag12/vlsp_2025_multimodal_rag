{
 "cells": [
  {
   "cell_type": "code",
   "id": "initial_id",
   "metadata": {
    "collapsed": true,
    "ExecuteTime": {
     "end_time": "2025-07-22T11:06:36.742897Z",
     "start_time": "2025-07-22T11:06:36.727497Z"
    }
   },
   "source": [
    "import json\n",
    "\n",
    "data_path = \"../data/VLSP 2025 - MLQA-TSR Data Release/train_data/vlsp_2025_train.json\"\n",
    "with open(data_path, \"r\") as f:\n",
    "    data = json.load(f)\n",
    "\n",
    "print(data[0:10])\n",
    "\n"
   ],
   "outputs": [
    {
     "name": "stdout",
     "output_type": "stream",
     "text": [
      "[{'id': 'train_1', 'image_id': 'train_1_3', 'question': 'Biển báo cấm xe khách trên 29 chỗ được áp dụng trong các khoảng thời gian nào? ', 'relevant_articles': [{'law_id': 'QCVN 41:2024/BGTVT', 'article_id': '22'}], 'question_type': 'Multiple choice', 'choices': {'A': 'Từ 6:30 đến 8:00 và từ 16:30 đến 18:30; ngoài các khoảng thời gian này không được phép lưu thông.', 'B': 'Từ 6:30 đến 8:00 và từ 16:30 đến 18:30; ngoài các khoảng thời gian này được phép lưu thông.', 'C': 'Cấm lưu thông cả ngày.', 'D': 'D. Không cấm xe khách trên 29 chỗ lưu thông.'}, 'answer': 'B'}, {'id': 'train_2', 'image_id': 'train_1_3', 'question': 'Những loại phương tiện nào bị cấm trên đoạn đường này', 'relevant_articles': [{'law_id': 'QCVN 41:2024/BGTVT', 'article_id': '26'}, {'law_id': 'QCVN 41:2024/BGTVT', 'article_id': '14'}], 'question_type': 'Multiple choice', 'choices': {'A': 'Xe khách trên 29 chỗ', 'B': 'ô tô con', 'C': 'Xe máy', 'D': 'Xe đạp'}, 'answer': 'A'}, {'id': 'train_3', 'image_id': 'train_1_3', 'question': 'Thời gian cấm xe khách trên 29 chỗ có bị thay đổi theo mùa không?', 'relevant_articles': [{'law_id': 'QCVN 41:2024/BGTVT', 'article_id': '26'}], 'question_type': 'Multiple choice', 'choices': {'A': 'Thời gian cấm xe khách thay đổi vào mùa hè và mùa đông', 'B': 'Thời gian cấm xe khách thay đổi vào các ngày lễ, Tết', 'C': 'Thời gian cấm xe khách cố định, không thay đổi theo mùa', 'D': 'Thời gian cấm xe khách chỉ áp dụng vào giờ cao điểm buổi sáng'}, 'answer': 'C'}, {'id': 'train_4', 'image_id': 'train_1_20', 'question': 'Biển báo cấm dừng xe và đỗ xe kèm theo biển phụ ghi khoảng cách 300m có ý nghĩa gì? Việc cấm dừng và đỗ xe này áp dụng trong phạm vi nào và có được phép dừng hoặc đỗ xe ngoài phạm vi này không?', 'relevant_articles': [{'law_id': 'QCVN 41:2024/BGTVT', 'article_id': '26'}], 'question_type': 'Multiple choice', 'choices': {'A': 'A. Cấm dừng và đỗ xe trong phạm vi 300m theo hướng biển báo, không được phép dừng hoặc đỗ xe trong phạm vi này.', 'B': 'B. Cấm dừng xe nhưng được phép đỗ xe trong phạm vi 300m.', 'C': 'C. Cấm đỗ xe nhưng được phép dừng xe trong phạm vi 300m.', 'D': 'D. Biển chỉ mang tính chất cảnh báo, không bắt buộc cấm dừng hoặc đỗ xe trong phạm vi 300m.'}, 'answer': 'A'}, {'id': 'train_5', 'image_id': 'train_1_10', 'question': 'Biển hiệu lệnh hình tròn này có ý nghĩa và hiệu lực áp dụng thế nào? ', 'relevant_articles': [{'law_id': 'QCVN 41:2024/BGTVT', 'article_id': '32'}, {'law_id': 'QCVN 41:2024/BGTVT', 'article_id': '7'}], 'question_type': 'Multiple choice', 'choices': {'A': 'A. Biển bắt buộc tất cả các phương tiện phải rẽ phải theo hướng chỉ dẫn, không có ngoại lệ.', 'B': 'B. Biển bắt buộc các phương tiện rẽ phải, trừ các xe ưu tiên khi làm nhiệm vụ khẩn cấp.', 'C': 'C. Biển chỉ mang tính chất khuyến cáo, các phương tiện có thể chọn rẽ hoặc đi thẳng.', 'D': 'D. Biển áp dụng cho tất cả phương tiện, trừ xe đạp và người đi bộ.'}, 'answer': 'B'}, {'id': 'train_6', 'image_id': 'train_1_18', 'question': 'Biển báo tam giác báo hiệu điều gì? Theo quy định hiện hành, người tham gia giao thông cần lưu ý những gì khi gặp biển báo này?', 'relevant_articles': [{'law_id': 'QCVN 41:2024/BGTVT', 'article_id': '28'}], 'question_type': 'Multiple choice', 'choices': {'A': 'Báo hiệu trước đoạn đường có phà qua sông; người tham gia giao thông phải chú ý giảm tốc độ và sẵn sàng dừng lại nếu cần.', 'B': 'Cấm tất cả các loại phương tiện qua phà; phải tìm đường khác.', 'C': 'Chỉ áp dụng cho xe ô tô; các loại xe khác không bị ảnh hưởng.', 'D': 'Báo hiệu khu vực có bến phà phục vụ riêng cho người đi bộ.'}, 'answer': 'A'}, {'id': 'train_7', 'image_id': 'train_1_18', 'question': 'Biển báo nguy hiểm hình chiếc ô tô trên phà có ý nghĩa cảnh báo gì về an toàn giao thông? Theo quy chuẩn hiện hành, hành vi nào bị cấm hoặc hạn chế khi lưu thông qua khu vực này?', 'relevant_articles': [{'law_id': 'QCVN 41:2024/BGTVT', 'article_id': '28'}, {'law_id': 'QCVN 41:2024/BGTVT', 'article_id': '30'}], 'question_type': 'Multiple choice', 'choices': {'A': 'Cảnh báo đoạn đường có bến phà, cấm dừng và đỗ xe trên đoạn đường dẫn vào bến phà để đảm bảo lưu thông an toàn.', 'B': 'Cảnh báo bến phà, nhưng không có giới hạn nào về dừng hoặc đỗ xe.', 'C': 'Cấm tất cả các phương tiện giao thông qua phà.', 'D': 'Chỉ cảnh báo cho xe tải, không áp dụng cho xe con và xe máy.'}, 'answer': 'A'}, {'id': 'train_8', 'image_id': 'train_1_18', 'question': 'Biển báo nguy hiểm hình chiếc ô tô trên phà báo hiệu đoạn đường có bến phà, và yêu cầu người tham gia giao thông giảm tốc độ, chú ý quan sát.\\nĐúng hay sai?', 'relevant_articles': [{'law_id': 'QCVN 41:2024/BGTVT', 'article_id': '28'}, {'law_id': 'QCVN 41:2024/BGTVT', 'article_id': '30'}], 'question_type': 'Yes/No', 'answer': 'Đúng'}, {'id': 'train_9', 'image_id': 'train_1_12', 'question': 'Biển báo phía trên báo hiệu rằng người tham gia giao thông có thể tiếp tục đi thẳng hoặc rẽ trái tại vị trí này.\\nĐúng hay sai?', 'relevant_articles': [{'law_id': 'QCVN 41:2024/BGTVT', 'article_id': '32'}], 'question_type': 'Yes/No', 'answer': 'Đúng'}, {'id': 'train_10', 'image_id': 'train_1_12', 'question': 'Biển báo có hình mũi tên chỉ thẳng và rẽ trái đồng thời cho phép người tham gia giao thông rẽ phải nếu không có biển báo khác.\\nĐúng hay sai?', 'relevant_articles': [{'law_id': 'QCVN 41:2024/BGTVT', 'article_id': '32'}], 'question_type': 'Yes/No', 'answer': 'Sai'}]\n"
     ]
    }
   ],
   "execution_count": 1
  },
  {
   "metadata": {
    "ExecuteTime": {
     "end_time": "2025-07-16T13:24:40.143720Z",
     "start_time": "2025-07-16T13:24:40.140740Z"
    }
   },
   "cell_type": "code",
   "source": [
    "for record in data:\n",
    "    if record[\"question_type\"] == \"Yes/No\":\n",
    "        answer = record.pop(\"answer\")\n",
    "        record[\"choices\"] = None\n",
    "        record[\"answer\"] = answer\n",
    "    file_name = f\"{record[\"image_id\"]}.jpg\"\n",
    "    record[\"file_name\"] = file_name"
   ],
   "id": "edd87bd696cbe4ee",
   "outputs": [],
   "execution_count": 2
  },
  {
   "metadata": {
    "ExecuteTime": {
     "end_time": "2025-07-16T13:24:40.194539Z",
     "start_time": "2025-07-16T13:24:40.191283Z"
    }
   },
   "cell_type": "code",
   "source": "print(data[0].keys())",
   "id": "47e8fd15ee1a629a",
   "outputs": [
    {
     "name": "stdout",
     "output_type": "stream",
     "text": [
      "dict_keys(['id', 'image_id', 'question', 'relevant_articles', 'question_type', 'choices', 'answer', 'file_name'])\n"
     ]
    }
   ],
   "execution_count": 3
  },
  {
   "metadata": {
    "ExecuteTime": {
     "end_time": "2025-07-16T13:24:40.256068Z",
     "start_time": "2025-07-16T13:24:40.242145Z"
    }
   },
   "cell_type": "code",
   "source": [
    "import csv\n",
    "df = open(\"../data/metadata.csv\", \"w\")\n",
    "writer = csv.writer(df)\n",
    "for idx, data_row in enumerate(data):\n",
    "    if idx==0:\n",
    "        header = data_row.keys()\n",
    "        writer.writerow(header)\n",
    "    writer.writerow(data_row.values())\n",
    "df.close()"
   ],
   "id": "da93efc9432a237c",
   "outputs": [],
   "execution_count": 4
  },
  {
   "metadata": {
    "ExecuteTime": {
     "end_time": "2025-07-16T13:24:42.431894Z",
     "start_time": "2025-07-16T13:24:40.294726Z"
    }
   },
   "cell_type": "code",
   "source": [
    "from datasets import load_dataset\n",
    "\n",
    "dataset = load_dataset(\"imagefolder\", data_dir=\"../data/VLSP 2025 - MLQA-TSR Data Release/train_data/train_images\")"
   ],
   "id": "80587b2972cfa610",
   "outputs": [
    {
     "name": "stderr",
     "output_type": "stream",
     "text": [
      "/home/nhhsag12/Documents/Multimodal Machine Learning/VLSP_2025/vlsp_2025_multimodal_rag/.venv/lib/python3.12/site-packages/tqdm/auto.py:21: TqdmWarning: IProgress not found. Please update jupyter and ipywidgets. See https://ipywidgets.readthedocs.io/en/stable/user_install.html\n",
      "  from .autonotebook import tqdm as notebook_tqdm\n",
      "Downloading data: 100%|██████████| 305/305 [00:00<00:00, 21730.30files/s]\n",
      "Generating train split: 530 examples [00:00, 5354.22 examples/s]\n"
     ]
    }
   ],
   "execution_count": 5
  },
  {
   "metadata": {
    "ExecuteTime": {
     "end_time": "2025-07-16T13:24:52.030263Z",
     "start_time": "2025-07-16T13:24:52.019603Z"
    }
   },
   "cell_type": "code",
   "source": "dataset",
   "id": "4e721abd80f154a1",
   "outputs": [
    {
     "data": {
      "text/plain": [
       "DatasetDict({\n",
       "    train: Dataset({\n",
       "        features: ['id', 'image_id', 'question', 'relevant_articles', 'question_type', 'choices', 'answer', 'image'],\n",
       "        num_rows: 530\n",
       "    })\n",
       "})"
      ]
     },
     "execution_count": 6,
     "metadata": {},
     "output_type": "execute_result"
    }
   ],
   "execution_count": 6
  },
  {
   "metadata": {
    "ExecuteTime": {
     "end_time": "2025-07-16T13:25:40.395342Z",
     "start_time": "2025-07-16T13:25:28.316138Z"
    }
   },
   "cell_type": "code",
   "source": "dataset.push_to_hub(\"nhhsag12/vlsp_2025_multimodal_rag\", private=True)\n",
   "id": "e97b086c446d424f",
   "outputs": [
    {
     "name": "stderr",
     "output_type": "stream",
     "text": [
      "Uploading the dataset shards:   0%|          | 0/1 [00:00<?, ? shards/s]\n",
      "Map:   0%|          | 0/530 [00:00<?, ? examples/s]\u001B[A\n",
      "Map:  19%|█▉        | 100/530 [00:00<00:00, 655.84 examples/s]\u001B[A\n",
      "Map:  38%|███▊      | 200/530 [00:00<00:00, 650.45 examples/s]\u001B[A\n",
      "Map:  57%|█████▋    | 300/530 [00:00<00:00, 693.79 examples/s]\u001B[A\n",
      "Map:  75%|███████▌  | 400/530 [00:00<00:00, 746.99 examples/s]\u001B[A\n",
      "Map: 100%|██████████| 530/530 [00:00<00:00, 635.82 examples/s]\u001B[A\n",
      "\n",
      "Creating parquet from Arrow format:   0%|          | 0/6 [00:00<?, ?ba/s]\u001B[A\n",
      "Creating parquet from Arrow format: 100%|██████████| 6/6 [00:00<00:00, 29.29ba/s]\u001B[A\n",
      "Uploading the dataset shards: 100%|██████████| 1/1 [00:10<00:00, 10.25s/ shards]\n"
     ]
    },
    {
     "data": {
      "text/plain": [
       "CommitInfo(commit_url='https://huggingface.co/datasets/nhhsag12/vlsp_2025_multimodal_rag/commit/65c7f4966ad691ff792709005c8caa1ec4bab7c2', commit_message='Upload dataset', commit_description='', oid='65c7f4966ad691ff792709005c8caa1ec4bab7c2', pr_url=None, repo_url=RepoUrl('https://huggingface.co/datasets/nhhsag12/vlsp_2025_multimodal_rag', endpoint='https://huggingface.co', repo_type='dataset', repo_id='nhhsag12/vlsp_2025_multimodal_rag'), pr_revision=None, pr_num=None)"
      ]
     },
     "execution_count": 7,
     "metadata": {},
     "output_type": "execute_result"
    }
   ],
   "execution_count": 7
  },
  {
   "metadata": {},
   "cell_type": "code",
   "outputs": [],
   "execution_count": null,
   "source": "",
   "id": "10d0b0aa0587137b"
  }
 ],
 "metadata": {
  "kernelspec": {
   "display_name": "Python 3",
   "language": "python",
   "name": "python3"
  },
  "language_info": {
   "codemirror_mode": {
    "name": "ipython",
    "version": 2
   },
   "file_extension": ".py",
   "mimetype": "text/x-python",
   "name": "python",
   "nbconvert_exporter": "python",
   "pygments_lexer": "ipython2",
   "version": "2.7.6"
  }
 },
 "nbformat": 4,
 "nbformat_minor": 5
}
